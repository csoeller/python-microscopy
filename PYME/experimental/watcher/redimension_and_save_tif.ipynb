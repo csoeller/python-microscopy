{
 "cells": [
  {
   "cell_type": "markdown",
   "id": "1acf9210-0745-4a69-8909-676bcd9a0b4e",
   "metadata": {},
   "source": [
    "# Recapitulate compressed, spooled data into a series of tiles\n",
    "\n",
    "This notebook is used together with PYME.experimental.watcher to spool and compress files coming from 3rd party acquisition software into PYMEs compressed format. This notebook handles reading the compressed data and re-exporting as a series of tiles.\n",
    "\n",
    "## Pre-requisites\n",
    "\n",
    "### Environment\n",
    "\n",
    "- python\n",
    "- python-microscopy\n",
    "- pyme-compress\n",
    "\n",
    "Easiest way to get this (at present with broken conda packages) is as follows: \n",
    "\n",
    "- Starting from a miniforge install with mamba and with conda-forge in the channels list, create a new environment:\n",
    "`mamba create -c david_baddeley -n PYME python=3.X pyme-depends`  where x in is between 8 and 11 inclusive\n",
    "- make sure you have the MS Visual C version matiching your python version (should be a free download, if you don't know which version, you can always wait until you get an error from python setup.py develop).\n",
    "- activate the environment: `conda activate PYME`\n",
    "- change to a suitable directory and checkout the latest PYME from the github repository:\n",
    "`git clone https://github.com/python-microscopy/python-microscopy.git`\n",
    "- `cd python-microscopy`\n",
    "- `python setup.py develop`\n",
    "\n",
    "Optionally test by trying to run the viewer `PYMEImage --test3D` (this could fail on wxpython issues even if you have an install which will work as a library)\n",
    "\n",
    "### RAM drive\n",
    "\n",
    "- create a RAM drive to spool to (optional in first instance, but desirable for speed eventually)\n",
    "\n",
    "### PYMEDataDir\n",
    "\n",
    "If the compressed data should be saved somewhere other than your home directory, the PYMEDataDir config option needs to be set.\n",
    "\n",
    "- Open (or if necescesary create) `config.yaml` in `{home}/.PYME`\n",
    "- add a line `dataserver-root: \"/path/to/directory/for/compressed.data\"\n",
    "\n",
    "### Data acquisition\n",
    "\n",
    "- `conda activate PYME`\n",
    "- `PYMEClusterOfOne` (this launches the server which will recieve and save compressed frames - this could also be a full multicomputer PYME cluster, but ClusterOfOne is a good place to start)\n",
    "- Start spooling in your acquisition software (.tif to a directory of your choosing, ideally on ram disk)\n",
    "- `python -m PYME.experimental.watcher /path/to/acquisition/tif/directory PYMECLUSTER:///path/to/somefile.pcs`  ie `python -m PYME.experimental.watcher input_directory output_series`\n",
    "- Wait for acquisition to finish\n",
    "- hit `Ctrl-C` in the terminal running `PYME.experimental.watcher`\n",
    "\n",
    "**FIXME: The watcher currently uses hard-coded values for camera ADOffset and electrons per count. I think these are suitable for the PYME simulator, NOT for your camera. This needs to be altered and/or exposed as config items** \n",
    "\n",
    "### Reconstruction (this notebook)\n",
    "\n",
    "- This should be run in your `PYME` environment created earlier.\n",
    "- The data server (PYMEClusterOfOne) must be running"
   ]
  },
  {
   "cell_type": "code",
   "execution_count": 14,
   "id": "d331df77-b023-454d-a53f-2e5c21c5a7a1",
   "metadata": {},
   "outputs": [],
   "source": [
    "import os\n",
    "import numpy as np\n",
    "from PYME.IO.image import ImageStack\n",
    "from PYME.IO.DataSources.BaseDataSource import XYZTCWrapper"
   ]
  },
  {
   "cell_type": "code",
   "execution_count": 10,
   "id": "2eef8bce-4fbe-433b-8b2b-beaf7819bc42",
   "metadata": {},
   "outputs": [
    {
     "name": "stdout",
     "output_type": "stream",
     "text": [
      "filename == PYME-CLUSTER:///PYMECLUSTER/david/2025_3_17/test1.pcs\n"
     ]
    },
    {
     "name": "stderr",
     "output_type": "stream",
     "text": [
      "/Users/david/python-microscopy/PYME/Analysis/MetaData.py:251: UserWarning: ADOffset fudged as 967 and probably wrong\n",
      "\n",
      "To change ADOffset, execute the following in the console: image.mdh['Camera.ADOffset'] = newValue\n",
      "\n",
      "Or use the Metadata pane in the GUI (right click on value to change)\n",
      "  warnings.warn(\"ADOffset fudged as %d and probably wrong\\n\\nTo change ADOffset, execute the following in the console: image.mdh['Camera.ADOffset'] = newValue\\n\\nOr use the Metadata pane in the GUI (right click on value to change)\" % md.getEntry('Camera.ADOffset'))#,'Did not find laser turn on signature')\n",
      "WARNING:PYME.pyme_warnings:Warning from PYME.Analysis.MetaData:251: ADOffset fudged as 967 and probably wrong\n",
      "\n",
      "To change ADOffset, execute the following in the console: image.mdh['Camera.ADOffset'] = newValue\n",
      "\n",
      "Or use the Metadata pane in the GUI (right click on value to change)\n"
     ]
    }
   ],
   "source": [
    "# Load the data set\n",
    "# this should show up as a large time series\n",
    "# NB - This is a lazy load, nothing is pulled into memory at this point\n",
    "# FIXME - adjust for path to your spooled data - This should be PYME-CLUSTER:///path/relative/to ~/PYMEData\n",
    "im = ImageStack(filename='PYME-CLUSTER:///PYMECLUSTER/david/2025_3_17/test1.pcs')"
   ]
  },
  {
   "cell_type": "code",
   "execution_count": 12,
   "id": "8f220609-9edd-4ed8-a325-7a1919d1096c",
   "metadata": {},
   "outputs": [
    {
     "name": "stdout",
     "output_type": "stream",
     "text": [
      "Current shape: (256, 256, 1, 23280, 1)\n"
     ]
    }
   ],
   "source": [
    "# what shape is the data (this should be (x, y,1,n_frames, 1))\n",
    "print('Current shape:', im.data_xyztc.shape)"
   ]
  },
  {
   "cell_type": "code",
   "execution_count": 16,
   "id": "b42318f4-7565-4f30-8582-2d8e5713df5e",
   "metadata": {},
   "outputs": [
    {
     "name": "stdout",
     "output_type": "stream",
     "text": [
      "n_tiles computed as: 1164.0\n"
     ]
    }
   ],
   "source": [
    "# re-dimension the data so that it has the correct dimensions (i.e. (x, y, n_z_slices, n_tiles, n_colours)). We'll use the time dimension for our tiles\n",
    "\n",
    "#Parameters - modify as appropriate\n",
    "#####################################\n",
    "\n",
    "#dimorder - order in which dimensions were acquired (from fastest to slowest)\n",
    "#modify this as appropriate if acquisition order was different - e.g. XYCZT if colours were switched on every frame, followed by z-steping, followed by tiles\n",
    "dimorder = 'XYZTC' \n",
    "\n",
    "#ditto for the below\n",
    "# TODO - read from a metadata file dropped with the image data\n",
    "n_z_slices=10\n",
    "n_colours=2\n",
    "\n",
    "# compute number of tiles\n",
    "n_tiles = im.data_xyztc.getNumSlices()/(n_z_slices*n_colours)\n",
    "print('n_tiles computed as:', n_tiles)\n",
    "\n",
    "# sanity check - n_tiles should be an integer if total number of slices is evenly divisible by z_slices*colours\n",
    "assert((n_tiles%1) == 0)\n",
    "# if above assertion passed, safe to cast to int\n",
    "n_tiles= int(n_tiles)\n",
    "\n",
    "#actually do the redimensioning\n",
    "#again, this is lazy and the frames are not in memory - the wrapper just changes how they are indexed\n",
    "d = XYZTCWrapper(im.data_xyztc)\n",
    "d.set_dim_order_and_size(dimorder, size_z=n_z_slices, size_t=n_tiles, size_c=n_colours)\n"
   ]
  },
  {
   "cell_type": "code",
   "execution_count": 25,
   "id": "89118b7e-a679-4829-b4f1-fbeba010d50a",
   "metadata": {},
   "outputs": [],
   "source": [
    "# save each tile as a multichannel .tif z-stack\n",
    "# modify as appropriate\n",
    "outputdir = '/Users/david/test_chunck_extract'\n",
    "\n",
    "for i in range(n_tiles):\n",
    "    # using PYME .tif save\n",
    "    # by default, decompressed data uses a float32 data type\n",
    "    #ImageStack(d[:,:,:,i,:]).save(os.path.join(outputdir, f'tile_float{i:04d}.tif'))\n",
    "    \n",
    "    # for most purposes, we probably want it as uint16 (i.e. the same as the original data)\n",
    "    ImageStack(d[:,:,:,i,:].astype('uint16')).save(os.path.join(outputdir, f'tile{i:04d}.tif'))\n",
    "    \n",
    "    \n",
    "    #alternatively, save each channel to a separate stack\n",
    "    # uncomment if preffered\n",
    "    #for c in range(n_colours):\n",
    "    #    ImageStack(d[:,:,:,i,c].astype('uint16')).save(os.path.join(outputdir, f'tile{i:04d}_chan{c:02d}.tif'))\n",
    "    \n"
   ]
  },
  {
   "cell_type": "code",
   "execution_count": null,
   "id": "4bcac238-2635-4ac0-b821-e57827beba4d",
   "metadata": {},
   "outputs": [],
   "source": []
  },
  {
   "cell_type": "code",
   "execution_count": null,
   "id": "89edc082-e07a-4776-bb08-06544621864b",
   "metadata": {},
   "outputs": [],
   "source": []
  }
 ],
 "metadata": {
  "kernelspec": {
   "display_name": "Python [conda env:pyme_as]",
   "language": "python",
   "name": "conda-env-pyme_as-py"
  },
  "language_info": {
   "codemirror_mode": {
    "name": "ipython",
    "version": 3
   },
   "file_extension": ".py",
   "mimetype": "text/x-python",
   "name": "python",
   "nbconvert_exporter": "python",
   "pygments_lexer": "ipython3",
   "version": "3.8.12"
  }
 },
 "nbformat": 4,
 "nbformat_minor": 5
}
